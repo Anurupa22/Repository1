{
 "cells": [
  {
   "cell_type": "markdown",
   "id": "6ef9da03-ceaf-4255-a235-8fcb43780f2b",
   "metadata": {},
   "source": [
    "# Data Science Tools and Ecosystem\n"
   ]
  },
  {
   "cell_type": "markdown",
   "id": "3da51594-e5d4-4f51-8028-50a7b2aae594",
   "metadata": {},
   "source": [
    "In this notebook, Data Science Tools and Ecosystem are summarized."
   ]
  },
  {
   "cell_type": "markdown",
   "id": "ec44f7df-b91b-4377-ad66-e267f09d27f7",
   "metadata": {},
   "source": [
    "*Objectives:*\n",
    "+ List popular languages for Data Science.\n",
    "+ List commonly used libraries used by Data Scientists\n",
    "+ List Data Science Tools\n",
    "+ Evaluate Arithmetic expressions in Python\n",
    "+ Convert 200 minutes to hours"
   ]
  },
  {
   "cell_type": "markdown",
   "id": "c12c4f14-0178-4281-a08e-fc5a3b8e1638",
   "metadata": {},
   "source": [
    "Some of the popular languages that Data Scientists use are:\n",
    "1. Python\n",
    "2. R\n",
    "3. SQL"
   ]
  },
  {
   "cell_type": "markdown",
   "id": "b88a56c8-be80-49ca-a425-1ed8d7171340",
   "metadata": {},
   "source": [
    "Some of the commonly used libraries used by Data Scientists include:\n",
    "1. Python\n",
    "2. Matplotlib\n",
    "3. NumPy\n"
   ]
  },
  {
   "cell_type": "markdown",
   "id": "1eb934a8-0a69-4906-a451-c9969d1f8273",
   "metadata": {},
   "source": [
    "|Data Science Tools|\n",
    "|--------------------|\n",
    "|Jupyter Notebook|\n",
    "|Visual Studio Code|\n",
    "|RStudio|"
   ]
  },
  {
   "cell_type": "markdown",
   "id": "591016ee-29ce-430d-a424-4a041fb14841",
   "metadata": {},
   "source": [
    "### Below are a few examples of evaluating arithmetic expressions in Python"
   ]
  },
  {
   "cell_type": "code",
   "execution_count": 1,
   "id": "6dc828f9-14cd-44ce-9cec-3c3190978440",
   "metadata": {
    "tags": []
   },
   "outputs": [
    {
     "data": {
      "text/plain": [
       "17"
      ]
     },
     "execution_count": 1,
     "metadata": {},
     "output_type": "execute_result"
    }
   ],
   "source": [
    "# This a simple arithmetic expression to mutiply then add integers\n",
    "(3*4)+5"
   ]
  },
  {
   "cell_type": "code",
   "execution_count": 2,
   "id": "f7ee57a9-a1e8-4323-8b5c-ffbae79d22b8",
   "metadata": {
    "tags": []
   },
   "outputs": [
    {
     "name": "stdout",
     "output_type": "stream",
     "text": [
      "3.3333333333333335\n"
     ]
    }
   ],
   "source": [
    "# This will convert 200 minutes to hours by diving by 60\n",
    "minutes=200\n",
    "hours=minutes/60\n",
    "print(hours)"
   ]
  },
  {
   "cell_type": "markdown",
   "id": "68a315cf-bb07-410c-a1a2-dab02c98d861",
   "metadata": {},
   "source": [
    "## Author\n",
    "Anurupa Maity"
   ]
  },
  {
   "cell_type": "code",
   "execution_count": null,
   "id": "d1c20826-bbd0-45d6-93b0-85ac339d1002",
   "metadata": {},
   "outputs": [],
   "source": []
  }
 ],
 "metadata": {
  "kernelspec": {
   "display_name": "Python",
   "language": "python",
   "name": "conda-env-python-py"
  },
  "language_info": {
   "codemirror_mode": {
    "name": "ipython",
    "version": 3
   },
   "file_extension": ".py",
   "mimetype": "text/x-python",
   "name": "python",
   "nbconvert_exporter": "python",
   "pygments_lexer": "ipython3",
   "version": "3.7.12"
  }
 },
 "nbformat": 4,
 "nbformat_minor": 5
}
